{
 "cells": [
  {
   "cell_type": "markdown",
   "metadata": {},
   "source": [
    "# Webpage data extraction using Beautiful Soup 4\n",
    "\n",
    "For a list of references see:\n",
    "\n",
    "https://blog.hartleybrody.com/web-scraping-cheat-sheet/#using-beautifulsoup\n"
   ]
  },
  {
   "cell_type": "code",
   "execution_count": null,
   "metadata": {},
   "outputs": [],
   "source": [
    "# conda install beautifulsoup4\n",
    "# pip install requests\n",
    "import requests\n",
    "from bs4 import BeautifulSoup"
   ]
  },
  {
   "cell_type": "code",
   "execution_count": null,
   "metadata": {},
   "outputs": [],
   "source": [
    "# Request the webpage\n",
    "url = \"https://www.spiegel.de/international\"\n",
    "req = requests.get(url)"
   ]
  },
  {
   "cell_type": "code",
   "execution_count": null,
   "metadata": {},
   "outputs": [],
   "source": [
    "# Inspect the structure of the article using Chrome / Devtools\n",
    "req.text"
   ]
  },
  {
   "cell_type": "code",
   "execution_count": null,
   "metadata": {},
   "outputs": [],
   "source": [
    "# Save the website\n",
    "websiteFileName=\"website.htm\"\n",
    "with open(websiteFileName, \"wb\") as file:\n",
    "    file.write(req.text.encode())"
   ]
  },
  {
   "cell_type": "code",
   "execution_count": null,
   "metadata": {},
   "outputs": [],
   "source": [
    "req.text"
   ]
  },
  {
   "cell_type": "code",
   "execution_count": null,
   "metadata": {},
   "outputs": [],
   "source": [
    "# Create the BS4 Object\n",
    "soup = BeautifulSoup(req.text, 'html')"
   ]
  },
  {
   "cell_type": "code",
   "execution_count": null,
   "metadata": {},
   "outputs": [],
   "source": [
    "# Use HTML Selector\n",
    "events = soup.findAll('article')\n",
    "events"
   ]
  },
  {
   "cell_type": "code",
   "execution_count": null,
   "metadata": {},
   "outputs": [],
   "source": [
    "len(events)"
   ]
  },
  {
   "cell_type": "code",
   "execution_count": null,
   "metadata": {
    "scrolled": true
   },
   "outputs": [],
   "source": [
    "# View the first article\n",
    "event=events[1]\n",
    "event"
   ]
  },
  {
   "cell_type": "code",
   "execution_count": null,
   "metadata": {},
   "outputs": [],
   "source": [
    "# Get the headline\n",
    "x=event.find('h2')\n",
    "x"
   ]
  },
  {
   "cell_type": "code",
   "execution_count": null,
   "metadata": {},
   "outputs": [],
   "source": [
    "# Get the title from the Anchor tag within the headline\n",
    "title=x.find(\"a\")[\"title\"]\n",
    "title"
   ]
  },
  {
   "cell_type": "code",
   "execution_count": null,
   "metadata": {
    "scrolled": true
   },
   "outputs": [],
   "source": [
    "# Get the article link from the Anchor tag within the headline\n",
    "href=x.find(\"a\")[\"href\"]\n",
    "href"
   ]
  },
  {
   "cell_type": "code",
   "execution_count": null,
   "metadata": {},
   "outputs": [],
   "source": [
    "# Get the figure HTML element\n",
    "x=event.find('figure')"
   ]
  },
  {
   "cell_type": "code",
   "execution_count": null,
   "metadata": {},
   "outputs": [],
   "source": [
    "# Get the image srce using HTML and CSS selection\n",
    "image= x.find(\"img\",{'data-image-el':'img'})[\"src\"]\n",
    "image"
   ]
  },
  {
   "cell_type": "code",
   "execution_count": null,
   "metadata": {},
   "outputs": [],
   "source": [
    "event=events[0]\n",
    "x=event.find('span',{'class':'font-sansUI font-normal text-s text-shade-dark'})"
   ]
  },
  {
   "cell_type": "code",
   "execution_count": null,
   "metadata": {},
   "outputs": [],
   "source": [
    "if (x!=None):\n",
    "    print(x.text)"
   ]
  },
  {
   "cell_type": "code",
   "execution_count": null,
   "metadata": {},
   "outputs": [],
   "source": [
    "my_events = []\n",
    "for event in events:\n",
    "    event_details = dict()\n",
    "    x=event.find('h2')\n",
    "    if (x!=None):\n",
    "        event_details['title'] = x.find(\"a\")[\"title\"]\n",
    "    x=event.find('h2')\n",
    "    if (x!=None):\n",
    "        event_details['href'] = x.find(\"a\")[\"href\"]\n",
    "    x=event.find('figure')\n",
    "    if (x!=None):\n",
    "        event_details['image'] = x.find(\"img\",{'data-image-el':'img'})[\"src\"]\n",
    "    x=event.find('span',{'class':'font-sansUI font-normal text-s text-shade-dark'})\n",
    "    if (x!=None):\n",
    "        event_details['author']=x.text\n",
    "    my_events.append(event_details) \n"
   ]
  },
  {
   "cell_type": "code",
   "execution_count": null,
   "metadata": {},
   "outputs": [],
   "source": [
    "print(my_events)"
   ]
  },
  {
   "cell_type": "code",
   "execution_count": null,
   "metadata": {},
   "outputs": [],
   "source": [
    "# Get one link\n",
    "details_url=my_events[2][\"href\"]\n",
    "details_url"
   ]
  },
  {
   "cell_type": "markdown",
   "metadata": {},
   "source": [
    "Check the website manually in Chrome with Xpath\n",
    "\n",
    "//div[contains(@class,\"RichText\")]/p/text()"
   ]
  },
  {
   "cell_type": "code",
   "execution_count": null,
   "metadata": {},
   "outputs": [],
   "source": [
    "# Request the website\n",
    "details_req = requests.get(details_url)"
   ]
  },
  {
   "cell_type": "code",
   "execution_count": null,
   "metadata": {},
   "outputs": [],
   "source": [
    "# Create a Soup Object\n",
    "details_soup = BeautifulSoup(details_req.text, 'html')"
   ]
  },
  {
   "cell_type": "code",
   "execution_count": null,
   "metadata": {},
   "outputs": [],
   "source": [
    "import re\n",
    "# AND expression with look aheads\n",
    "regex = re.compile('(?=.*RichText.*)(?=.*word-wrap.*)')\n",
    "# OR expression with look aheads\n",
    "# regex = re.compile('(?=.*RichText.*|.*word-wrap.*)')"
   ]
  },
  {
   "cell_type": "code",
   "execution_count": null,
   "metadata": {},
   "outputs": [],
   "source": [
    "# Use HTML Selector\n",
    "details_events = details_soup.findAll('div',{'class':regex})\n",
    "details_events"
   ]
  },
  {
   "cell_type": "code",
   "execution_count": null,
   "metadata": {},
   "outputs": [],
   "source": [
    "# Iterate over all p tags\n",
    "for devents in details_events:\n",
    "    x=devents.findAll(\"p\")\n",
    "    for p in x:\n",
    "        print(p.text)"
   ]
  },
  {
   "cell_type": "code",
   "execution_count": null,
   "metadata": {},
   "outputs": [],
   "source": []
  },
  {
   "cell_type": "code",
   "execution_count": null,
   "metadata": {},
   "outputs": [],
   "source": [
    "# Create a function for the code above\n",
    "# Define a function to automatically extract the text\n",
    "def downloadText(url):\n",
    "    details_req = requests.get(url)\n",
    "    details_soup = BeautifulSoup(details_req.text, 'html')\n",
    "    regex = re.compile('.*RichText.*')\n",
    "    details_events = details_soup.findAll('div',{'class':regex})\n",
    "    text=\"\";\n",
    "    for devents in details_events:\n",
    "        paragraphs=devents.findAll(\"p\")\n",
    "        for paragraph in paragraphs:\n",
    "            text = text + \" \" + paragraph.text\n",
    "    return text"
   ]
  },
  {
   "cell_type": "code",
   "execution_count": null,
   "metadata": {},
   "outputs": [],
   "source": [
    "# Test the function\n",
    "print(downloadText(details_url))"
   ]
  },
  {
   "cell_type": "code",
   "execution_count": null,
   "metadata": {},
   "outputs": [],
   "source": [
    "# Download all images - Helper method\n",
    "def downloadImage(url, file_name):\n",
    "    # open in binary mode\n",
    "    with open(file_name, \"wb\") as file:\n",
    "        # get request\n",
    "        response = requests.get(url)\n",
    "        # write to file\n",
    "        file.write(response.content)"
   ]
  },
  {
   "cell_type": "code",
   "execution_count": null,
   "metadata": {},
   "outputs": [],
   "source": [
    "# Download all images\n",
    "i=0;\n",
    "for e in my_events:\n",
    "    if (e.get(\"image\")!=None):\n",
    "        downloadImage(e[\"image\"],str(i)+\".jpg\")\n",
    "        i = i + 1"
   ]
  },
  {
   "cell_type": "code",
   "execution_count": null,
   "metadata": {},
   "outputs": [],
   "source": []
  }
 ],
 "metadata": {
  "kernelspec": {
   "display_name": "Python 3",
   "language": "python",
   "name": "python3"
  },
  "language_info": {
   "codemirror_mode": {
    "name": "ipython",
    "version": 3
   },
   "file_extension": ".py",
   "mimetype": "text/x-python",
   "name": "python",
   "nbconvert_exporter": "python",
   "pygments_lexer": "ipython3",
   "version": "3.8.5"
  }
 },
 "nbformat": 4,
 "nbformat_minor": 4
}
