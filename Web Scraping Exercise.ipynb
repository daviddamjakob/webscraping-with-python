{
 "cells": [
  {
   "cell_type": "markdown",
   "metadata": {},
   "source": [
    "# Exercise 1"
   ]
  },
  {
   "cell_type": "markdown",
   "metadata": {},
   "source": [
    "Task 1: Go to http://quotes.toscrape.com/ and scrap the following information from the website. The website as several pages."
   ]
  },
  {
   "cell_type": "markdown",
   "metadata": {},
   "source": [
    "![exercise01.PNG](images/exercise01.PNG)"
   ]
  },
  {
   "cell_type": "markdown",
   "metadata": {},
   "source": [
    "* The quote\n",
    "* The Author\n",
    "* The tags\n"
   ]
  },
  {
   "cell_type": "markdown",
   "metadata": {},
   "source": [
    "Task 2: Store the results in a database, retrieve them and create histogram on the number of quotes per author.\n",
    "You can use either your own database with SQLite or use the online database MySQL\n",
    "\n",
    "Webinterface:\n",
    "* URL: http://ec2-54-174-124-168.compute-1.amazonaws.com/phpMyAdmin/\n",
    "* Username: admin\n",
    "* Password: famviews58239\n",
    "\n",
    "Database:\n",
    "* host=\"dbtest.ckiye7lbs2mb.us-east-1.rds.amazonaws.com\"\n",
    "* user=\"admin\"\n",
    "* password=\"famviews58239\"\n",
    "* db=\"webmining\""
   ]
  }
 ],
 "metadata": {
  "kernelspec": {
   "display_name": "Python 3",
   "language": "python",
   "name": "python3"
  },
  "language_info": {
   "codemirror_mode": {
    "name": "ipython",
    "version": 3
   },
   "file_extension": ".py",
   "mimetype": "text/x-python",
   "name": "python",
   "nbconvert_exporter": "python",
   "pygments_lexer": "ipython3",
   "version": "3.6.12"
  }
 },
 "nbformat": 4,
 "nbformat_minor": 4
}
